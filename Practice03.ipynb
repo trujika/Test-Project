{
 "cells": [
  {
   "cell_type": "code",
   "execution_count": 9,
   "id": "d29a007f-403a-438d-9e32-c2953d48e665",
   "metadata": {},
   "outputs": [
    {
     "name": "stdin",
     "output_type": "stream",
     "text": [
      "enter value of a 5\n"
     ]
    },
    {
     "name": "stdout",
     "output_type": "stream",
     "text": [
      "a is less than 10\n"
     ]
    }
   ],
   "source": [
    "a = int(input('enter value of a'))\n",
    "if a < 10: \n",
    "    print('a is less than 10')\n",
    "    "
   ]
  },
  {
   "cell_type": "code",
   "execution_count": 10,
   "id": "5e2fea73-a9ca-4439-9e01-2423fa09e220",
   "metadata": {},
   "outputs": [
    {
     "name": "stdout",
     "output_type": "stream",
     "text": [
      "in loop\n",
      "1\n",
      "in loop\n",
      "2\n",
      "in loop\n",
      "3\n",
      "in loop\n",
      "4\n",
      "in loop\n",
      "5\n"
     ]
    }
   ],
   "source": [
    "k = 1\n",
    "while k < 6: # the code in the intedentation is executed until the condition is true !\n",
    "    print('in loop') \n",
    "    print(k)\n",
    "    k = k + 1\n"
   ]
  },
  {
   "cell_type": "code",
   "execution_count": 4,
   "id": "ed651fa7-cf0d-4fd5-985c-4810b39a6384",
   "metadata": {},
   "outputs": [
    {
     "name": "stdout",
     "output_type": "stream",
     "text": [
      "The value of k is: 1\n",
      "The value of k is: 2\n",
      "The value of k is: 3\n",
      "The value of k is: 4\n",
      "The value of k is: 5\n",
      "The value of k is: 6\n",
      "The value of k is: 7\n",
      "The value of k is: 8\n",
      "The value of k is: 9\n",
      "The value of k is: 10\n",
      "The value of k is: 11\n",
      "The value of k is: 12\n",
      "The value of k is: 13\n",
      "The value of k is: 14\n",
      "The value of k is: 15\n",
      "The value of k is: 16\n",
      "The value of k is: 17\n",
      "The value of k is: 18\n",
      "The value of k is: 19\n",
      "The value of k is: 20\n"
     ]
    }
   ],
   "source": [
    "k = 1\n",
    "while k < 1000:\n",
    "    if k > 20:\n",
    "        break\n",
    "    print('The value of k is: {k_value}'.format(k_value=k)) # format is used to inject data into a string !\n",
    "    k = k + 1"
   ]
  },
  {
   "cell_type": "code",
   "execution_count": 12,
   "id": "37101f7c-2a99-424a-a831-da4d50b00b02",
   "metadata": {},
   "outputs": [
    {
     "name": "stdout",
     "output_type": "stream",
     "text": [
      "1\n",
      "2\n",
      "3\n",
      "4\n",
      "6\n",
      "7\n",
      "8\n",
      "9\n",
      "10\n"
     ]
    }
   ],
   "source": [
    "count = 1\n",
    "while count <= 10:\n",
    "    if count == 5:\n",
    "        count += 1\n",
    "        continue  # Skip printing 5\n",
    "    print(count)\n",
    "    count += 1\n"
   ]
  },
  {
   "cell_type": "code",
   "execution_count": 1,
   "id": "b2c3cb46-5e5c-4c0f-a014-bebfaa10418a",
   "metadata": {},
   "outputs": [
    {
     "name": "stdout",
     "output_type": "stream",
     "text": [
      "1\n",
      "test\n",
      "3\n",
      "4\n"
     ]
    }
   ],
   "source": [
    "#For loop\n",
    "my_list_of_data = [1, 'test', 3, 4]\n",
    "for data in my_list_of_data:\n",
    "    print(data)"
   ]
  },
  {
   "cell_type": "code",
   "execution_count": 11,
   "id": "8bf39b6a-e749-4365-9ed2-3a45ac78c01b",
   "metadata": {},
   "outputs": [
    {
     "name": "stdout",
     "output_type": "stream",
     "text": [
      "XM20\n",
      "YM50\n"
     ]
    },
    {
     "data": {
      "text/plain": [
       "['XM20', 'YM50']"
      ]
     },
     "execution_count": 11,
     "metadata": {},
     "output_type": "execute_result"
    }
   ],
   "source": [
    "specimens=['M50', 'XM20','YM50','M20','M56']\n",
    "cleaned_specimens=[]\n",
    "for specimen in specimens:\n",
    "    if specimen[0]=='M':\n",
    "        continue\n",
    "    print(specimen)\n",
    "    cleaned_specimens.append(specimen)\n",
    "cleaned_specimens"
   ]
  },
  {
   "cell_type": "code",
   "execution_count": 12,
   "id": "af307931-ec20-40ba-b63c-f8a3e29a57f8",
   "metadata": {},
   "outputs": [
    {
     "name": "stdout",
     "output_type": "stream",
     "text": [
      "M50\n",
      "M40\n"
     ]
    }
   ],
   "source": [
    "specimens=['M50', 'M40','M30','M20']\n",
    "for specimen in specimens:\n",
    "    if specimen =='M30':\n",
    "        break\n",
    "    print (specimen)"
   ]
  },
  {
   "cell_type": "code",
   "execution_count": 13,
   "id": "bfbb961d-abdb-4c1b-ada5-cd06f15d203b",
   "metadata": {},
   "outputs": [
    {
     "name": "stdout",
     "output_type": "stream",
     "text": [
      "This is the small number:1\n",
      "This is the big number:3\n",
      "This is the small number:10\n",
      "This is the big number:30\n",
      "This is the small number:100\n",
      "This is the big number:300\n"
     ]
    }
   ],
   "source": [
    "list_of_tuples= [(1,3), (10,30), (100, 300)]\n",
    "for small, big in list_of_tuples:\n",
    "    print ('This is the small number:'+ str(small))\n",
    "    print ('This is the big number:'+ str(big))"
   ]
  },
  {
   "cell_type": "code",
   "execution_count": 16,
   "id": "660098db-a379-4cde-8688-43e67bcc414d",
   "metadata": {},
   "outputs": [
    {
     "name": "stdout",
     "output_type": "stream",
     "text": [
      "H\n",
      "e\n",
      "l\n",
      "l\n",
      "o\n",
      " \n",
      "W\n",
      "o\n",
      "r\n",
      "l\n",
      "d\n"
     ]
    }
   ],
   "source": [
    "greetings = 'Hello World'\n",
    "for char in greetings:\n",
    "    print(char)"
   ]
  },
  {
   "cell_type": "code",
   "execution_count": 17,
   "id": "1242a1ee-29c0-4bec-abe8-19c76ff672ce",
   "metadata": {},
   "outputs": [
    {
     "name": "stdout",
     "output_type": "stream",
     "text": [
      "name : Alice\n",
      "age : 30\n",
      "gender : female\n"
     ]
    }
   ],
   "source": [
    "person = {'name':'Alice', 'age':'30', 'gender':'female'}\n",
    "for key, value in person.items():\n",
    "    print(key, ':', value)"
   ]
  },
  {
   "cell_type": "code",
   "execution_count": 21,
   "id": "8c66d5f5-f65a-4799-a6a1-6a45ed6e6ed8",
   "metadata": {},
   "outputs": [
    {
     "name": "stdout",
     "output_type": "stream",
     "text": [
      "0 0.0\n",
      "1 3.0\n",
      "2 7.231144413344916\n",
      "3 13.39038917031591\n",
      "4 21.5157165665104\n",
      "5 31.62065659669276\n"
     ]
    }
   ],
   "source": [
    "for x in range(6):\n",
    "    y = x + x**2+ x**0.3\n",
    "    print(x, y)"
   ]
  },
  {
   "cell_type": "code",
   "execution_count": 25,
   "id": "bd15a60f-ab56-447a-bd73-df6bc41b4d39",
   "metadata": {},
   "outputs": [
    {
     "data": {
      "text/plain": [
       "[(0, 0.0),\n",
       " (10, 111.99526231496888),\n",
       " (20, 422.4564560522316),\n",
       " (30, 932.7741911146721),\n",
       " (40, 1643.0242521453322),\n",
       " (50, 2553.233635032887),\n",
       " (60, 3663.41542989238),\n",
       " (70, 4973.5770862508725),\n",
       " (80, 6483.723291133272),\n",
       " (90, 8193.857205282227),\n",
       " (100, 10103.981071705535)]"
      ]
     },
     "execution_count": 25,
     "metadata": {},
     "output_type": "execute_result"
    }
   ],
   "source": [
    "my_data = []\n",
    "for z in range(0, 110, 10):\n",
    "    y = z + z**2+ z**0.3\n",
    "    my_tuple= (z, y)\n",
    "    my_data.append(my_tuple)\n",
    "my_data"
   ]
  },
  {
   "cell_type": "code",
   "execution_count": 27,
   "id": "71be817a-b974-4414-8227-c7a195bb12fd",
   "metadata": {},
   "outputs": [],
   "source": [
    "# WHAT IS PICKLE USED FOR HERE?\n",
    "import pickle\n",
    "with open('my_new_data.pkl', 'wb') as my_file:\n",
    "    pickle.dump(my_data, my_file)"
   ]
  },
  {
   "cell_type": "code",
   "execution_count": 28,
   "id": "54f3f91d-f4e3-4a28-86cd-276ae0c5e96d",
   "metadata": {},
   "outputs": [
    {
     "data": {
      "text/plain": [
       "<generator object <genexpr> at 0x0000020A93F9CBA0>"
      ]
     },
     "execution_count": 28,
     "metadata": {},
     "output_type": "execute_result"
    }
   ],
   "source": [
    "squares = (x**2 for x in range (1,6))\n",
    "squares"
   ]
  },
  {
   "cell_type": "code",
   "execution_count": 29,
   "id": "8108ca09-f9cc-4b19-ac00-baa791d6fddd",
   "metadata": {},
   "outputs": [
    {
     "data": {
      "text/plain": [
       "generator"
      ]
     },
     "execution_count": 29,
     "metadata": {},
     "output_type": "execute_result"
    }
   ],
   "source": [
    "type(squares)\n"
   ]
  },
  {
   "cell_type": "code",
   "execution_count": 30,
   "id": "97a936f7-808f-44dc-a385-e03b057afaf9",
   "metadata": {},
   "outputs": [
    {
     "name": "stdout",
     "output_type": "stream",
     "text": [
      "1\n",
      "4\n",
      "9\n",
      "16\n",
      "25\n"
     ]
    }
   ],
   "source": [
    "for square in squares:\n",
    "    print(square)"
   ]
  },
  {
   "cell_type": "code",
   "execution_count": 31,
   "id": "9f04f76a-88f4-468f-a8e5-c40a86bc0446",
   "metadata": {},
   "outputs": [
    {
     "name": "stdout",
     "output_type": "stream",
     "text": [
      "0 1 1.0\n",
      "1 2 1.2311444133449163\n",
      "2 16 2.2973967099940698\n",
      "3 32 2.82842712474619\n",
      "4 64 3.4822022531844965\n",
      "5 128 4.2870938501451725\n",
      "6 256 5.278031643091577\n",
      "7 512 6.498019170849884\n",
      "8 1024 7.999999999999999\n"
     ]
    }
   ],
   "source": [
    "a = [1, 2, 16, 32, 64, 128, 256, 512, 1024]\n",
    "for counter, value in enumerate(a):\n",
    "    y = value **0.3\n",
    "    print (counter, value, y)\n"
   ]
  },
  {
   "cell_type": "code",
   "execution_count": 32,
   "id": "b199bca0-9ff1-4a62-a883-f1d2e66be3a2",
   "metadata": {},
   "outputs": [
    {
     "name": "stdout",
     "output_type": "stream",
     "text": [
      "1 3\n",
      "4 12\n",
      "16 48\n",
      "32 96\n",
      "64 192\n",
      "128 384\n",
      "256 768\n",
      "512 1536\n",
      "1024 3072\n"
     ]
    }
   ],
   "source": [
    "my_new_list_1 = [1, 4, 16, 32, 64, 128, 256, 512, 1024]\n",
    "my_new_list_2 = [1*3, 4*3, 16*3, 32*3, 64*3, 128*3, 256*3, 512*3, 1024*3]\n",
    "for l1, l2 in zip(my_new_list_1, my_new_list_2):\n",
    "    print(l1, l2)"
   ]
  },
  {
   "cell_type": "code",
   "execution_count": 10,
   "id": "269ebdec-5065-4c25-ac1c-9bf0eda05857",
   "metadata": {},
   "outputs": [
    {
     "name": "stdout",
     "output_type": "stream",
     "text": [
      "1\n",
      "2\n",
      "3\n"
     ]
    }
   ],
   "source": [
    "my_list = [1,2,3]\n",
    "my_iter = iter(my_list)\n",
    "type(my_iter)\n",
    "#print(next(my_iter))\n",
    "#print(next(my_iter))\n",
    "\n",
    "for item in my_iter:\n",
    "    print (item)"
   ]
  },
  {
   "cell_type": "code",
   "execution_count": 43,
   "id": "a90ea897-0079-488f-afc1-5063680e1e05",
   "metadata": {},
   "outputs": [
    {
     "name": "stdout",
     "output_type": "stream",
     "text": [
      "0\n",
      "2\n",
      "4\n",
      "6\n",
      "8\n",
      "10\n"
     ]
    }
   ],
   "source": [
    "#ITERTOOLS\n",
    "import itertools\n",
    "for i in itertools.count(0, 2):\n",
    "    if i> 10:\n",
    "        break\n",
    "    print (i)"
   ]
  },
  {
   "cell_type": "code",
   "execution_count": 44,
   "id": "08b50204-3ae7-411a-b3e8-de6f41875619",
   "metadata": {},
   "outputs": [
    {
     "name": "stdout",
     "output_type": "stream",
     "text": [
      "1\n",
      "2\n",
      "3\n",
      "4\n",
      "1\n",
      "2\n",
      "3\n",
      "4\n",
      "1\n",
      "2\n"
     ]
    }
   ],
   "source": [
    "\n",
    "my_list = [1, 2, 3, 4]\n",
    "counter = 0\n",
    "for i in itertools.cycle(my_list):\n",
    "    counter += 1\n",
    "    if counter > 10:\n",
    "        break\n",
    "    print(i)"
   ]
  },
  {
   "cell_type": "code",
   "execution_count": 16,
   "id": "568da85d-8b96-4655-b39a-2094ecb50936",
   "metadata": {},
   "outputs": [
    {
     "name": "stdout",
     "output_type": "stream",
     "text": [
      "2\n",
      "2\n",
      "2\n",
      "2\n",
      "2\n"
     ]
    }
   ],
   "source": [
    "import itertools\n",
    "for i in itertools.repeat (2, 5):\n",
    "    print(i)"
   ]
  },
  {
   "cell_type": "code",
   "execution_count": 46,
   "id": "2d79e12e-e807-4eec-a93b-7af2aa735209",
   "metadata": {},
   "outputs": [
    {
     "name": "stdout",
     "output_type": "stream",
     "text": [
      "1\n",
      "2\n",
      "3\n",
      "4\n",
      "5\n",
      "6\n",
      "7\n",
      "8\n",
      "9\n"
     ]
    }
   ],
   "source": [
    "l1 = [1, 2, 3]\n",
    "l2 = [4, 5, 6]\n",
    "l3 = [7, 8, 9]\n",
    "for i in itertools.chain(l1, l2, l3):\n",
    "    print(i)"
   ]
  },
  {
   "cell_type": "code",
   "execution_count": 47,
   "id": "a79cc521-87e6-40b7-a7fb-58b5891bbf0b",
   "metadata": {},
   "outputs": [
    {
     "name": "stdout",
     "output_type": "stream",
     "text": [
      "b\n",
      "c\n",
      "d\n"
     ]
    }
   ],
   "source": [
    "my_list = ['a', 'b', 'c', 'd', 'e']\n",
    "for i in itertools.islice(my_list, 1, 4):\n",
    "    print(i)"
   ]
  },
  {
   "cell_type": "code",
   "execution_count": 48,
   "id": "1b100ca5-bfe1-4fe5-a03b-7332d8c54254",
   "metadata": {},
   "outputs": [
    {
     "name": "stdout",
     "output_type": "stream",
     "text": [
      "('a', 1)\n",
      "('a', 2)\n",
      "('a', 3)\n",
      "('b', 1)\n",
      "('b', 2)\n",
      "('b', 3)\n"
     ]
    }
   ],
   "source": [
    "import itertools\n",
    "\n",
    "# Generate the Cartesian product of two lists\n",
    "list1 = ['a', 'b']\n",
    "list2 = [1, 2, 3]\n",
    "for pair in itertools.product(list1, list2):\n",
    "    print(pair)"
   ]
  },
  {
   "cell_type": "code",
   "execution_count": 20,
   "id": "fbe2719e-76d2-40df-8b35-3938ddcfc0d0",
   "metadata": {},
   "outputs": [
    {
     "name": "stdin",
     "output_type": "stream",
     "text": [
      "Enter a numerator: 4\n",
      "Enter a denominator: *\n"
     ]
    },
    {
     "name": "stdout",
     "output_type": "stream",
     "text": [
      "Error: Please enter valid numeric values\n",
      "Program execution completed\n"
     ]
    }
   ],
   "source": [
    "try:\n",
    "    num1 = int(input(\"Enter a numerator:\"))\n",
    "    num2 = int(input(\"Enter a denominator:\"))\n",
    "    result = num1 / num2\n",
    "except ZeroDivisionError:\n",
    "    print(\"Error: Division by zero is not allowed\")\n",
    "except ValueError:\n",
    "    print(\"Error: Please enter valid numeric values\")\n",
    "else:\n",
    "    print(f\"Result of division: {result}\")\n",
    "finally:\n",
    "    print(\"Program execution completed\")"
   ]
  },
  {
   "cell_type": "code",
   "execution_count": null,
   "id": "6c946b73-8a0e-4acf-9449-1e254b7774a7",
   "metadata": {},
   "outputs": [],
   "source": []
  }
 ],
 "metadata": {
  "kernelspec": {
   "display_name": "Python 3 (ipykernel)",
   "language": "python",
   "name": "python3"
  },
  "language_info": {
   "codemirror_mode": {
    "name": "ipython",
    "version": 3
   },
   "file_extension": ".py",
   "mimetype": "text/x-python",
   "name": "python",
   "nbconvert_exporter": "python",
   "pygments_lexer": "ipython3",
   "version": "3.12.4"
  }
 },
 "nbformat": 4,
 "nbformat_minor": 5
}
